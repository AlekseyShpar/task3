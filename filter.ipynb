{
 "cells": [
  {
   "cell_type": "code",
   "execution_count": 1,
   "metadata": {},
   "outputs": [
    {
     "name": "stderr",
     "output_type": "stream",
     "text": [
      "D:\\Anaconda\\lib\\site-packages\\IPython\\html.py:12: ShimWarning: The `IPython.html` package has been deprecated since IPython 4.0. You should import from `notebook` instead. `IPython.html.widgets` has moved to `ipywidgets`.\n",
      "  warn(\"The `IPython.html` package has been deprecated since IPython 4.0. \"\n"
     ]
    }
   ],
   "source": [
    "from obspy import read, Trace, Stream, UTCDateTime\n",
    "from obspy.core import AttribDict\n",
    "from obspy.io.segy.segy import SEGYTraceHeader, SEGYBinaryFileHeader\n",
    "from obspy.io.segy.core import _read_segy\n",
    "import numpy as np\n",
    "import sys\n",
    "import matplotlib.pyplot as plt\n",
    "\n",
    "from IPython.display import Image\n",
    "from IPython.core.display import HTML \n",
    "from IPython.html.widgets import interact"
   ]
  },
  {
   "cell_type": "code",
   "execution_count": 2,
   "metadata": {},
   "outputs": [],
   "source": [
    "stream = _read_segy(\"test.segy\")"
   ]
  },
  {
   "cell_type": "code",
   "execution_count": 3,
   "metadata": {},
   "outputs": [
    {
     "data": {
      "text/plain": [
       "1001 Trace(s) in Stream:\n",
       "\n",
       "Seq. No. in line:  120 | 1970-01-01T00:00:00.000000Z - 1970-01-01T00:00:05.996000Z | 250.0 Hz, 1500 samples\n",
       "...\n",
       "(999 other traces)\n",
       "...\n",
       "Seq. No. in line: 120120 | 1970-01-01T00:00:00.000000Z - 1970-01-01T00:00:05.996000Z | 250.0 Hz, 1500 samples\n",
       "\n",
       "[Use \"print(Stream.__str__(extended=True))\" to print all Traces]"
      ]
     },
     "execution_count": 3,
     "metadata": {},
     "output_type": "execute_result"
    }
   ],
   "source": [
    "stream"
   ]
  },
  {
   "cell_type": "code",
   "execution_count": 4,
   "metadata": {},
   "outputs": [],
   "source": [
    "trace = stream.traces[0]\n",
    "\n",
    "#plt.figure(figsize=(16,2))\n",
    "#plt.plot(trace.data)\n",
    "#plt.show()"
   ]
  },
  {
   "cell_type": "code",
   "execution_count": 5,
   "metadata": {},
   "outputs": [
    {
     "name": "stderr",
     "output_type": "stream",
     "text": [
      "D:\\Anaconda\\lib\\site-packages\\IPython\\core\\interactiveshell.py:3337: FutureWarning: arrays to stack must be passed as a \"sequence\" type such as list or tuple. Support for non-sequence iterables such as generators is deprecated as of NumPy 1.16 and will raise an error in the future.\n",
      "  if (await self.run_code(code, result,  async_=asy)):\n"
     ]
    }
   ],
   "source": [
    "Data = np.stack(t.data for t in stream.traces)"
   ]
  },
  {
   "cell_type": "code",
   "execution_count": 6,
   "metadata": {},
   "outputs": [
    {
     "data": {
      "text/plain": [
       "(1001, 1500)"
      ]
     },
     "execution_count": 6,
     "metadata": {},
     "output_type": "execute_result"
    }
   ],
   "source": [
    "Data.shape"
   ]
  },
  {
   "cell_type": "code",
   "execution_count": 7,
   "metadata": {},
   "outputs": [
    {
     "name": "stdout",
     "output_type": "stream",
     "text": [
      "1316.53\n",
      "-1323.2\n"
     ]
    }
   ],
   "source": [
    "print(Data.max())\n",
    "print(Data.min())"
   ]
  },
  {
   "cell_type": "code",
   "execution_count": 8,
   "metadata": {},
   "outputs": [
    {
     "data": {
      "application/vnd.jupyter.widget-view+json": {
       "model_id": "cbb26dd4626a42f3bbdaeabaf5ec8a1f",
       "version_major": 2,
       "version_minor": 0
      },
      "text/plain": [
       "interactive(children=(IntSlider(value=75, description='x', min=50), Output()), _dom_classes=('widget-interact'…"
      ]
     },
     "metadata": {},
     "output_type": "display_data"
    }
   ],
   "source": [
    "def pr (x):\n",
    "    vm_test = np.percentile(Data, x)\n",
    "    print(\"The {:.0f} percentile is {:.0f}; the max amplitude is {:.0f}\".format(x, vm_test, Data.max()))\n",
    "\n",
    "    plt.figure(figsize=(6,12))\n",
    "    plt.imshow(Data.T, cmap=\"Greys\", vmin= -vm_test, vmax=vm_test, aspect='auto')\n",
    "\n",
    "\n",
    "i = interact (pr, x =(50,100))"
   ]
  },
  {
   "cell_type": "code",
   "execution_count": 9,
   "metadata": {},
   "outputs": [],
   "source": [
    "stream_header = _read_segy('test.segy', headonly=True)\n",
    "#stream_header.binary_file_header"
   ]
  },
  {
   "cell_type": "code",
   "execution_count": 10,
   "metadata": {},
   "outputs": [],
   "source": [
    "#stream_header.traces[0].header"
   ]
  },
  {
   "cell_type": "markdown",
   "metadata": {},
   "source": [
    "[Фильтры ObsPy](https://docs.obspy.org/packages/autogen/obspy.signal.filter.html)"
   ]
  },
  {
   "cell_type": "code",
   "execution_count": 11,
   "metadata": {},
   "outputs": [],
   "source": [
    "from obspy.signal.filter import bandpass, bandstop, highpass, lowpass"
   ]
  },
  {
   "cell_type": "markdown",
   "metadata": {},
   "source": [
    "1. Фильтр высоких частот - **highpass** - удаляет данных \"ниже\" определенной частоты freq"
   ]
  },
  {
   "cell_type": "code",
   "execution_count": null,
   "metadata": {
    "scrolled": true
   },
   "outputs": [
    {
     "data": {
      "application/vnd.jupyter.widget-view+json": {
       "model_id": "95e1ead5c0e74cf0b1d021d8259e21f2",
       "version_major": 2,
       "version_minor": 0
      },
      "text/plain": [
       "interactive(children=(IntSlider(value=62, description='freq', max=124, min=1), Output()), _dom_classes=('widge…"
      ]
     },
     "metadata": {},
     "output_type": "display_data"
    }
   ],
   "source": [
    "def filter_highpass (freq):\n",
    "    data_highpass=highpass(Data, freq, 250, corners=4, zerophase=False)\n",
    "    plt.figure(figsize=(6,12))\n",
    "    plt.imshow(data_highpass.T, cmap=\"Greys\", aspect='auto')\n",
    "\n",
    "\n",
    "i = interact (filter_highpass,\n",
    "              freq =(1,124))"
   ]
  },
  {
   "cell_type": "markdown",
   "metadata": {},
   "source": [
    "2. Фильтр низких частот - **lowpass** - удаляет данных \"выше\" определенной частоты freq"
   ]
  },
  {
   "cell_type": "code",
   "execution_count": null,
   "metadata": {},
   "outputs": [],
   "source": [
    "def filter_lowpass (freq):\n",
    "    data_lowpass=lowpass(Data, freq, 250, corners=4, zerophase=False)\n",
    "    plt.figure(figsize=(6,12))\n",
    "    plt.imshow(data_lowpass.T, cmap=\"Greys\", aspect='auto')\n",
    "\n",
    "\n",
    "i = interact (filter_lowpass, \n",
    "              freq =(1,124))"
   ]
  },
  {
   "cell_type": "markdown",
   "metadata": {},
   "source": [
    "3. Полосовой фильтр - **bandpass** - удаляет данные не входящие в промежуток между частотами freqmin и freqmax."
   ]
  },
  {
   "cell_type": "code",
   "execution_count": null,
   "metadata": {
    "scrolled": true
   },
   "outputs": [],
   "source": [
    "def filter_bandpass (freqmin, freqmax):\n",
    "    data_bandpass=bandpass(Data, freqmin, freqmax, 250, corners=4, zerophase=False)\n",
    "    #print('Filter ' ,data_bandpass, '\\n', 'No filter', Data, sep='')\n",
    "    plt.figure(figsize=(6,12))\n",
    "    plt.imshow(data_bandpass.T, cmap=\"Greys\", aspect='auto')  #vmin= -min(data_bandpass), vmax=max(data_bandpass),\n",
    "\n",
    "\n",
    "i = interact (filter_bandpass, \n",
    "              freqmin =(1,62), \n",
    "              freqmax = (62,124))"
   ]
  },
  {
   "cell_type": "markdown",
   "metadata": {},
   "source": [
    "4. Полосовой фильтр - **bandstop** - удаляет данные между частотами freqmin и freqmax."
   ]
  },
  {
   "cell_type": "code",
   "execution_count": null,
   "metadata": {},
   "outputs": [],
   "source": [
    "def filter_bandstop (freqmin, freqmax):\n",
    "    data_bandstop=bandstop(Data, freqmin, freqmax, 250, corners=4, zerophase=False)\n",
    "    #print('Filter ' ,data_bandpass, '\\n', 'No filter', Data, sep='')\n",
    "    plt.figure(figsize=(6,12))\n",
    "    plt.imshow(data_bandstop.T, cmap=\"Greys\", aspect='auto')\n",
    "\n",
    "\n",
    "i = interact (filter_bandstop, \n",
    "              freqmin =(1,62), \n",
    "              freqmax = (62,124))"
   ]
  },
  {
   "cell_type": "code",
   "execution_count": null,
   "metadata": {},
   "outputs": [],
   "source": []
  }
 ],
 "metadata": {
  "kernelspec": {
   "display_name": "Python 3",
   "language": "python",
   "name": "python3"
  },
  "language_info": {
   "codemirror_mode": {
    "name": "ipython",
    "version": 3
   },
   "file_extension": ".py",
   "mimetype": "text/x-python",
   "name": "python",
   "nbconvert_exporter": "python",
   "pygments_lexer": "ipython3",
   "version": "3.8.3"
  }
 },
 "nbformat": 4,
 "nbformat_minor": 4
}
